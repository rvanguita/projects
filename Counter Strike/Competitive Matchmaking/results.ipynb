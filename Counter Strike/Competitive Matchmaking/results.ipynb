{
 "cells": [
  {
   "cell_type": "markdown",
   "metadata": {},
   "source": [
    "O jogo Counter Stiker Global Offencie, é um espoter de tirro em primeira pessoa, de grande sucesso durando os anos -------. Esse jogo mistura mua mescla de habilidades de tiro, possicionamento e controle de uma economia intena por round. Atualmente esse jogo está sendo chamado de CS 2, onde possue grandes melhgorias graficas, mas ainda mantendo os aspectos das informacoes encontradas nesse dataset. O arquivo compactado supera os valores maximos do GitHub e do Gitlab, descompactados eles possuem um valor 6 vezes maior do permetido da forma grastis de se utilizar. Assim deixei linkado somente aonde possemos coletas essas informacoes, [CS:GO Competitive Matchmaking Data](https://www.kaggle.com/datasets/skihikingkevin/csgo-matchmaking-damage/data 'CS:GO Competitive Matchmaking Data')"
   ]
  },
  {
   "cell_type": "code",
   "execution_count": 25,
   "metadata": {},
   "outputs": [],
   "source": [
    "import pandas as pd\n",
    "import numpy as np\n",
    "import matplotlib.pyplot as plt\n",
    "import seaborn as sns\n",
    "\n",
    "import plotly.express as px\n",
    "import plotly.graph_objects as go\n",
    "\n",
    "import re\n",
    "\n",
    "sns.set_style('whitegrid')"
   ]
  },
  {
   "cell_type": "markdown",
   "metadata": {},
   "source": [
    "# Input dataframes"
   ]
  },
  {
   "cell_type": "code",
   "execution_count": 26,
   "metadata": {},
   "outputs": [
    {
     "name": "stdout",
     "output_type": "stream",
     "text": [
      "<class 'pandas.core.frame.DataFrame'>\n",
      "Index: 7 entries, de_cache to de_train\n",
      "Data columns (total 6 columns):\n",
      " #   Column  Non-Null Count  Dtype\n",
      "---  ------  --------------  -----\n",
      " 0   EndX    7 non-null      int64\n",
      " 1   EndY    7 non-null      int64\n",
      " 2   ResX    7 non-null      int64\n",
      " 3   ResY    7 non-null      int64\n",
      " 4   StartX  7 non-null      int64\n",
      " 5   StartY  7 non-null      int64\n",
      "dtypes: int64(6)\n",
      "memory usage: 392.0+ bytes\n"
     ]
    }
   ],
   "source": [
    "map_info_df = pd.read_csv('data/map_data.csv', index_col=0)\n",
    "map_info_df.info()"
   ]
  },
  {
   "cell_type": "code",
   "execution_count": 27,
   "metadata": {},
   "outputs": [
    {
     "name": "stdout",
     "output_type": "stream",
     "text": [
      "<class 'pandas.core.frame.DataFrame'>\n",
      "Index: 366098 entries, 0 to 275\n",
      "Data columns (total 32 columns):\n",
      " #   Column           Non-Null Count   Dtype  \n",
      "---  ------           --------------   -----  \n",
      " 0   file             366098 non-null  object \n",
      " 1   map              366098 non-null  object \n",
      " 2   round            366098 non-null  int64  \n",
      " 3   start_seconds    366098 non-null  float64\n",
      " 4   seconds          366098 non-null  float64\n",
      " 5   end_seconds      366098 non-null  float64\n",
      " 6   att_team         366098 non-null  object \n",
      " 7   vic_team         59240 non-null   object \n",
      " 8   att_id           366098 non-null  int64  \n",
      " 9   vic_id           59240 non-null   float64\n",
      " 10  att_side         366098 non-null  object \n",
      " 11  vic_side         59240 non-null   object \n",
      " 12  hp_dmg           366098 non-null  int64  \n",
      " 13  arm_dmg          366098 non-null  int64  \n",
      " 14  is_bomb_planted  366098 non-null  bool   \n",
      " 15  bomb_site        23107 non-null   object \n",
      " 16  hitbox           59240 non-null   object \n",
      " 17  nade             366098 non-null  object \n",
      " 18  winner_team      366098 non-null  object \n",
      " 19  winner_side      366098 non-null  object \n",
      " 20  att_rank         366098 non-null  int64  \n",
      " 21  vic_rank         59240 non-null   float64\n",
      " 22  att_pos_x        366098 non-null  float64\n",
      " 23  att_pos_y        366098 non-null  float64\n",
      " 24  nade_land_x      366098 non-null  float64\n",
      " 25  nade_land_y      366098 non-null  float64\n",
      " 26  vic_pos_x        59240 non-null   float64\n",
      " 27  vic_pos_y        59240 non-null   float64\n",
      " 28  round_type       366098 non-null  object \n",
      " 29  ct_eq_val        366098 non-null  int64  \n",
      " 30  t_eq_val         366098 non-null  int64  \n",
      " 31  avg_match_rank   366098 non-null  float64\n",
      "dtypes: bool(1), float64(12), int64(7), object(12)\n",
      "memory usage: 89.7+ MB\n"
     ]
    }
   ],
   "source": [
    "grenades_events_df = pd.read_csv('data/mm_grenades_demos.csv', index_col=0)\n",
    "grenades_events_df.info()"
   ]
  },
  {
   "cell_type": "code",
   "execution_count": 28,
   "metadata": {},
   "outputs": [
    {
     "name": "stdout",
     "output_type": "stream",
     "text": [
      "<class 'pandas.core.frame.DataFrame'>\n",
      "Index: 955466 entries, 0 to 841\n",
      "Data columns (total 32 columns):\n",
      " #   Column           Non-Null Count   Dtype  \n",
      "---  ------           --------------   -----  \n",
      " 0   file             955466 non-null  object \n",
      " 1   map              955466 non-null  object \n",
      " 2   date             955466 non-null  object \n",
      " 3   round            955466 non-null  int64  \n",
      " 4   tick             955466 non-null  int64  \n",
      " 5   seconds          955466 non-null  float64\n",
      " 6   att_team         955466 non-null  object \n",
      " 7   vic_team         955466 non-null  object \n",
      " 8   att_side         945474 non-null  object \n",
      " 9   vic_side         955466 non-null  object \n",
      " 10  hp_dmg           955466 non-null  int64  \n",
      " 11  arm_dmg          955466 non-null  int64  \n",
      " 12  is_bomb_planted  955466 non-null  bool   \n",
      " 13  bomb_site        151039 non-null  object \n",
      " 14  hitbox           955466 non-null  object \n",
      " 15  wp               955466 non-null  object \n",
      " 16  wp_type          955466 non-null  object \n",
      " 17  award            955466 non-null  int64  \n",
      " 18  winner_team      955466 non-null  object \n",
      " 19  winner_side      955466 non-null  object \n",
      " 20  att_id           955466 non-null  int64  \n",
      " 21  att_rank         955466 non-null  int64  \n",
      " 22  vic_id           955466 non-null  int64  \n",
      " 23  vic_rank         955466 non-null  int64  \n",
      " 24  att_pos_x        955466 non-null  float64\n",
      " 25  att_pos_y        955466 non-null  float64\n",
      " 26  vic_pos_x        955466 non-null  float64\n",
      " 27  vic_pos_y        955466 non-null  float64\n",
      " 28  round_type       955466 non-null  object \n",
      " 29  ct_eq_val        955466 non-null  int64  \n",
      " 30  t_eq_val         955466 non-null  int64  \n",
      " 31  avg_match_rank   955466 non-null  float64\n",
      "dtypes: bool(1), float64(6), int64(11), object(14)\n",
      "memory usage: 234.2+ MB\n"
     ]
    }
   ],
   "source": [
    "weapon_events_df = pd.read_csv('data/mm_master_demos.csv', index_col=0)\n",
    "weapon_events_df.info()"
   ]
  },
  {
   "cell_type": "code",
   "execution_count": 29,
   "metadata": {},
   "outputs": [
    {
     "name": "stdout",
     "output_type": "stream",
     "text": [
      "<class 'pandas.core.frame.DataFrame'>\n",
      "Index: 377629 entries, 0 to 161709\n",
      "Data columns (total 10 columns):\n",
      " #   Column         Non-Null Count   Dtype  \n",
      "---  ------         --------------   -----  \n",
      " 0   file           377629 non-null  object \n",
      " 1   map            377629 non-null  object \n",
      " 2   round          377629 non-null  int64  \n",
      " 3   start_seconds  377589 non-null  float64\n",
      " 4   end_seconds    377589 non-null  float64\n",
      " 5   winner_team    377628 non-null  object \n",
      " 6   winner_side    377628 non-null  object \n",
      " 7   round_type     377629 non-null  object \n",
      " 8   ct_eq_val      377629 non-null  int64  \n",
      " 9   t_eq_val       377629 non-null  int64  \n",
      "dtypes: float64(2), int64(3), object(5)\n",
      "memory usage: 31.7+ MB\n"
     ]
    }
   ],
   "source": [
    "games_df_part1 = pd.read_csv('data/esea_meta_demos.part1.csv')\n",
    "games_df_part2 = pd.read_csv('data/esea_meta_demos.part2.csv')\n",
    "\n",
    "games_df = pd.concat([games_df_part1, games_df_part2])\n",
    "del games_df_part1\n",
    "del games_df_part2\n",
    "games_df.info()"
   ]
  },
  {
   "cell_type": "code",
   "execution_count": 30,
   "metadata": {},
   "outputs": [
    {
     "name": "stdout",
     "output_type": "stream",
     "text": [
      "<class 'pandas.core.frame.DataFrame'>\n",
      "Index: 2742646 entries, 0 to 1173168\n",
      "Data columns (total 13 columns):\n",
      " #   Column           Dtype  \n",
      "---  ------           -----  \n",
      " 0   file             object \n",
      " 1   round            int64  \n",
      " 2   tick             int64  \n",
      " 3   seconds          float64\n",
      " 4   att_team         object \n",
      " 5   vic_team         object \n",
      " 6   att_side         object \n",
      " 7   vic_side         object \n",
      " 8   wp               object \n",
      " 9   wp_type          object \n",
      " 10  ct_alive         int64  \n",
      " 11  t_alive          int64  \n",
      " 12  is_bomb_planted  bool   \n",
      "dtypes: bool(1), float64(1), int64(4), object(7)\n",
      "memory usage: 274.6+ MB\n"
     ]
    }
   ],
   "source": [
    "kills_df_part1 = pd.read_csv('data/esea_master_kills_demos.part1.csv')\n",
    "kills_df_part2 = pd.read_csv('data/esea_master_kills_demos.part2.csv')\n",
    "\n",
    "kills_df = pd.concat([kills_df_part1, kills_df_part2])\n",
    "del kills_df_part1\n",
    "del kills_df_part2\n",
    "kills_df.info()"
   ]
  },
  {
   "cell_type": "code",
   "execution_count": 31,
   "metadata": {},
   "outputs": [
    {
     "name": "stdout",
     "output_type": "stream",
     "text": [
      "<class 'pandas.core.frame.DataFrame'>\n",
      "Index: 10538182 entries, 0 to 4546084\n",
      "Data columns (total 23 columns):\n",
      " #   Column           Dtype  \n",
      "---  ------           -----  \n",
      " 0   file             object \n",
      " 1   round            int64  \n",
      " 2   tick             int64  \n",
      " 3   seconds          float64\n",
      " 4   att_team         object \n",
      " 5   vic_team         object \n",
      " 6   att_side         object \n",
      " 7   vic_side         object \n",
      " 8   hp_dmg           int64  \n",
      " 9   arm_dmg          int64  \n",
      " 10  is_bomb_planted  bool   \n",
      " 11  bomb_site        object \n",
      " 12  hitbox           object \n",
      " 13  wp               object \n",
      " 14  wp_type          object \n",
      " 15  att_id           int64  \n",
      " 16  att_rank         int64  \n",
      " 17  vic_id           int64  \n",
      " 18  vic_rank         int64  \n",
      " 19  att_pos_x        float64\n",
      " 20  att_pos_y        float64\n",
      " 21  vic_pos_x        float64\n",
      " 22  vic_pos_y        float64\n",
      "dtypes: bool(1), float64(5), int64(8), object(9)\n",
      "memory usage: 1.8+ GB\n"
     ]
    }
   ],
   "source": [
    "damage_df_part1 = pd.read_csv('data/esea_master_dmg_demos.part1.csv')\n",
    "damage_df_part2 = pd.read_csv('data/esea_master_dmg_demos.part2.csv')\n",
    "\n",
    "damage_df = pd.concat([damage_df_part1, damage_df_part2])\n",
    "del damage_df_part1\n",
    "del damage_df_part2\n",
    "damage_df.info()"
   ]
  },
  {
   "cell_type": "code",
   "execution_count": 32,
   "metadata": {},
   "outputs": [
    {
     "name": "stdout",
     "output_type": "stream",
     "text": [
      "<class 'pandas.core.frame.DataFrame'>\n",
      "Index: 5246458 entries, 0 to 2256397\n",
      "Data columns (total 23 columns):\n",
      " #   Column           Dtype  \n",
      "---  ------           -----  \n",
      " 0   file             object \n",
      " 1   round            int64  \n",
      " 2   seconds          float64\n",
      " 3   att_team         object \n",
      " 4   vic_team         object \n",
      " 5   att_id           int64  \n",
      " 6   vic_id           float64\n",
      " 7   att_side         object \n",
      " 8   vic_side         object \n",
      " 9   hp_dmg           int64  \n",
      " 10  arm_dmg          int64  \n",
      " 11  is_bomb_planted  bool   \n",
      " 12  bomb_site        object \n",
      " 13  hitbox           object \n",
      " 14  nade             object \n",
      " 15  att_rank         int64  \n",
      " 16  vic_rank         float64\n",
      " 17  att_pos_x        float64\n",
      " 18  att_pos_y        float64\n",
      " 19  nade_land_x      float64\n",
      " 20  nade_land_y      float64\n",
      " 21  vic_pos_x        float64\n",
      " 22  vic_pos_y        float64\n",
      "dtypes: bool(1), float64(9), int64(5), object(8)\n",
      "memory usage: 925.6+ MB\n"
     ]
    }
   ],
   "source": [
    "grenades_df_part1 = pd.read_csv('data/esea_master_grenades_demos.part1.csv')\n",
    "grenades_df_part2 = pd.read_csv('data/esea_master_grenades_demos.part2.csv')\n",
    "\n",
    "grenades_df = pd.concat([grenades_df_part1, grenades_df_part2])\n",
    "del grenades_df_part1\n",
    "del grenades_df_part2\n",
    "grenades_df.info()"
   ]
  },
  {
   "cell_type": "code",
   "execution_count": null,
   "metadata": {},
   "outputs": [],
   "source": []
  },
  {
   "cell_type": "markdown",
   "metadata": {},
   "source": [
    "Sou um jogador iniciando do CS 2, mas sempre escuto tanto narradores de jogos profissionais ou colegas de jogo dizendo que cada mapa possue uma vantagem para cada um dos lados. Nessa primeira analise, quero analisar se existe essa tendencia de cada lado ou se é simplesmente uma supersticao dos jogadores.\n",
    "\n",
    "Na primeira imagem abaixo vemos que os jogadores possuem uma preferencia dos mapas Mirage, Cache e Inferno. A partir do mapa Overpass não poderemos afirmar nada, pois possuem uma amostra muito baixa em comparacão com os outros. "
   ]
  },
  {
   "cell_type": "code",
   "execution_count": 33,
   "metadata": {},
   "outputs": [
    {
     "data": {
      "application/vnd.plotly.v1+json": {
       "config": {
        "plotlyServerURL": "https://plot.ly"
       },
       "data": [
        {
         "marker": {
          "color": [
           "rgb(228,26,28)",
           "rgb(55,126,184)",
           "rgb(77,175,74)",
           "rgb(152,78,163)",
           "rgb(255,127,0)",
           "rgb(255,255,51)",
           "rgb(166,86,40)",
           "rgb(247,129,191)",
           "rgb(153,153,153)"
          ]
         },
         "type": "bar",
         "x": [
          "de_mirage",
          "de_cache",
          "de_inferno",
          "de_overpass",
          "de_dust2",
          "de_train",
          "de_cbble",
          "de_nuke"
         ],
         "y": [
          132862,
          128024,
          52876,
          23697,
          20225,
          12604,
          5792,
          1549
         ]
        }
       ],
       "layout": {
        "bargap": 0.2,
        "template": {
         "data": {
          "bar": [
           {
            "error_x": {
             "color": "#2a3f5f"
            },
            "error_y": {
             "color": "#2a3f5f"
            },
            "marker": {
             "line": {
              "color": "#E5ECF6",
              "width": 0.5
             },
             "pattern": {
              "fillmode": "overlay",
              "size": 10,
              "solidity": 0.2
             }
            },
            "type": "bar"
           }
          ],
          "barpolar": [
           {
            "marker": {
             "line": {
              "color": "#E5ECF6",
              "width": 0.5
             },
             "pattern": {
              "fillmode": "overlay",
              "size": 10,
              "solidity": 0.2
             }
            },
            "type": "barpolar"
           }
          ],
          "carpet": [
           {
            "aaxis": {
             "endlinecolor": "#2a3f5f",
             "gridcolor": "white",
             "linecolor": "white",
             "minorgridcolor": "white",
             "startlinecolor": "#2a3f5f"
            },
            "baxis": {
             "endlinecolor": "#2a3f5f",
             "gridcolor": "white",
             "linecolor": "white",
             "minorgridcolor": "white",
             "startlinecolor": "#2a3f5f"
            },
            "type": "carpet"
           }
          ],
          "choropleth": [
           {
            "colorbar": {
             "outlinewidth": 0,
             "ticks": ""
            },
            "type": "choropleth"
           }
          ],
          "contour": [
           {
            "colorbar": {
             "outlinewidth": 0,
             "ticks": ""
            },
            "colorscale": [
             [
              0,
              "#0d0887"
             ],
             [
              0.1111111111111111,
              "#46039f"
             ],
             [
              0.2222222222222222,
              "#7201a8"
             ],
             [
              0.3333333333333333,
              "#9c179e"
             ],
             [
              0.4444444444444444,
              "#bd3786"
             ],
             [
              0.5555555555555556,
              "#d8576b"
             ],
             [
              0.6666666666666666,
              "#ed7953"
             ],
             [
              0.7777777777777778,
              "#fb9f3a"
             ],
             [
              0.8888888888888888,
              "#fdca26"
             ],
             [
              1,
              "#f0f921"
             ]
            ],
            "type": "contour"
           }
          ],
          "contourcarpet": [
           {
            "colorbar": {
             "outlinewidth": 0,
             "ticks": ""
            },
            "type": "contourcarpet"
           }
          ],
          "heatmap": [
           {
            "colorbar": {
             "outlinewidth": 0,
             "ticks": ""
            },
            "colorscale": [
             [
              0,
              "#0d0887"
             ],
             [
              0.1111111111111111,
              "#46039f"
             ],
             [
              0.2222222222222222,
              "#7201a8"
             ],
             [
              0.3333333333333333,
              "#9c179e"
             ],
             [
              0.4444444444444444,
              "#bd3786"
             ],
             [
              0.5555555555555556,
              "#d8576b"
             ],
             [
              0.6666666666666666,
              "#ed7953"
             ],
             [
              0.7777777777777778,
              "#fb9f3a"
             ],
             [
              0.8888888888888888,
              "#fdca26"
             ],
             [
              1,
              "#f0f921"
             ]
            ],
            "type": "heatmap"
           }
          ],
          "heatmapgl": [
           {
            "colorbar": {
             "outlinewidth": 0,
             "ticks": ""
            },
            "colorscale": [
             [
              0,
              "#0d0887"
             ],
             [
              0.1111111111111111,
              "#46039f"
             ],
             [
              0.2222222222222222,
              "#7201a8"
             ],
             [
              0.3333333333333333,
              "#9c179e"
             ],
             [
              0.4444444444444444,
              "#bd3786"
             ],
             [
              0.5555555555555556,
              "#d8576b"
             ],
             [
              0.6666666666666666,
              "#ed7953"
             ],
             [
              0.7777777777777778,
              "#fb9f3a"
             ],
             [
              0.8888888888888888,
              "#fdca26"
             ],
             [
              1,
              "#f0f921"
             ]
            ],
            "type": "heatmapgl"
           }
          ],
          "histogram": [
           {
            "marker": {
             "pattern": {
              "fillmode": "overlay",
              "size": 10,
              "solidity": 0.2
             }
            },
            "type": "histogram"
           }
          ],
          "histogram2d": [
           {
            "colorbar": {
             "outlinewidth": 0,
             "ticks": ""
            },
            "colorscale": [
             [
              0,
              "#0d0887"
             ],
             [
              0.1111111111111111,
              "#46039f"
             ],
             [
              0.2222222222222222,
              "#7201a8"
             ],
             [
              0.3333333333333333,
              "#9c179e"
             ],
             [
              0.4444444444444444,
              "#bd3786"
             ],
             [
              0.5555555555555556,
              "#d8576b"
             ],
             [
              0.6666666666666666,
              "#ed7953"
             ],
             [
              0.7777777777777778,
              "#fb9f3a"
             ],
             [
              0.8888888888888888,
              "#fdca26"
             ],
             [
              1,
              "#f0f921"
             ]
            ],
            "type": "histogram2d"
           }
          ],
          "histogram2dcontour": [
           {
            "colorbar": {
             "outlinewidth": 0,
             "ticks": ""
            },
            "colorscale": [
             [
              0,
              "#0d0887"
             ],
             [
              0.1111111111111111,
              "#46039f"
             ],
             [
              0.2222222222222222,
              "#7201a8"
             ],
             [
              0.3333333333333333,
              "#9c179e"
             ],
             [
              0.4444444444444444,
              "#bd3786"
             ],
             [
              0.5555555555555556,
              "#d8576b"
             ],
             [
              0.6666666666666666,
              "#ed7953"
             ],
             [
              0.7777777777777778,
              "#fb9f3a"
             ],
             [
              0.8888888888888888,
              "#fdca26"
             ],
             [
              1,
              "#f0f921"
             ]
            ],
            "type": "histogram2dcontour"
           }
          ],
          "mesh3d": [
           {
            "colorbar": {
             "outlinewidth": 0,
             "ticks": ""
            },
            "type": "mesh3d"
           }
          ],
          "parcoords": [
           {
            "line": {
             "colorbar": {
              "outlinewidth": 0,
              "ticks": ""
             }
            },
            "type": "parcoords"
           }
          ],
          "pie": [
           {
            "automargin": true,
            "type": "pie"
           }
          ],
          "scatter": [
           {
            "fillpattern": {
             "fillmode": "overlay",
             "size": 10,
             "solidity": 0.2
            },
            "type": "scatter"
           }
          ],
          "scatter3d": [
           {
            "line": {
             "colorbar": {
              "outlinewidth": 0,
              "ticks": ""
             }
            },
            "marker": {
             "colorbar": {
              "outlinewidth": 0,
              "ticks": ""
             }
            },
            "type": "scatter3d"
           }
          ],
          "scattercarpet": [
           {
            "marker": {
             "colorbar": {
              "outlinewidth": 0,
              "ticks": ""
             }
            },
            "type": "scattercarpet"
           }
          ],
          "scattergeo": [
           {
            "marker": {
             "colorbar": {
              "outlinewidth": 0,
              "ticks": ""
             }
            },
            "type": "scattergeo"
           }
          ],
          "scattergl": [
           {
            "marker": {
             "colorbar": {
              "outlinewidth": 0,
              "ticks": ""
             }
            },
            "type": "scattergl"
           }
          ],
          "scattermapbox": [
           {
            "marker": {
             "colorbar": {
              "outlinewidth": 0,
              "ticks": ""
             }
            },
            "type": "scattermapbox"
           }
          ],
          "scatterpolar": [
           {
            "marker": {
             "colorbar": {
              "outlinewidth": 0,
              "ticks": ""
             }
            },
            "type": "scatterpolar"
           }
          ],
          "scatterpolargl": [
           {
            "marker": {
             "colorbar": {
              "outlinewidth": 0,
              "ticks": ""
             }
            },
            "type": "scatterpolargl"
           }
          ],
          "scatterternary": [
           {
            "marker": {
             "colorbar": {
              "outlinewidth": 0,
              "ticks": ""
             }
            },
            "type": "scatterternary"
           }
          ],
          "surface": [
           {
            "colorbar": {
             "outlinewidth": 0,
             "ticks": ""
            },
            "colorscale": [
             [
              0,
              "#0d0887"
             ],
             [
              0.1111111111111111,
              "#46039f"
             ],
             [
              0.2222222222222222,
              "#7201a8"
             ],
             [
              0.3333333333333333,
              "#9c179e"
             ],
             [
              0.4444444444444444,
              "#bd3786"
             ],
             [
              0.5555555555555556,
              "#d8576b"
             ],
             [
              0.6666666666666666,
              "#ed7953"
             ],
             [
              0.7777777777777778,
              "#fb9f3a"
             ],
             [
              0.8888888888888888,
              "#fdca26"
             ],
             [
              1,
              "#f0f921"
             ]
            ],
            "type": "surface"
           }
          ],
          "table": [
           {
            "cells": {
             "fill": {
              "color": "#EBF0F8"
             },
             "line": {
              "color": "white"
             }
            },
            "header": {
             "fill": {
              "color": "#C8D4E3"
             },
             "line": {
              "color": "white"
             }
            },
            "type": "table"
           }
          ]
         },
         "layout": {
          "annotationdefaults": {
           "arrowcolor": "#2a3f5f",
           "arrowhead": 0,
           "arrowwidth": 1
          },
          "autotypenumbers": "strict",
          "coloraxis": {
           "colorbar": {
            "outlinewidth": 0,
            "ticks": ""
           }
          },
          "colorscale": {
           "diverging": [
            [
             0,
             "#8e0152"
            ],
            [
             0.1,
             "#c51b7d"
            ],
            [
             0.2,
             "#de77ae"
            ],
            [
             0.3,
             "#f1b6da"
            ],
            [
             0.4,
             "#fde0ef"
            ],
            [
             0.5,
             "#f7f7f7"
            ],
            [
             0.6,
             "#e6f5d0"
            ],
            [
             0.7,
             "#b8e186"
            ],
            [
             0.8,
             "#7fbc41"
            ],
            [
             0.9,
             "#4d9221"
            ],
            [
             1,
             "#276419"
            ]
           ],
           "sequential": [
            [
             0,
             "#0d0887"
            ],
            [
             0.1111111111111111,
             "#46039f"
            ],
            [
             0.2222222222222222,
             "#7201a8"
            ],
            [
             0.3333333333333333,
             "#9c179e"
            ],
            [
             0.4444444444444444,
             "#bd3786"
            ],
            [
             0.5555555555555556,
             "#d8576b"
            ],
            [
             0.6666666666666666,
             "#ed7953"
            ],
            [
             0.7777777777777778,
             "#fb9f3a"
            ],
            [
             0.8888888888888888,
             "#fdca26"
            ],
            [
             1,
             "#f0f921"
            ]
           ],
           "sequentialminus": [
            [
             0,
             "#0d0887"
            ],
            [
             0.1111111111111111,
             "#46039f"
            ],
            [
             0.2222222222222222,
             "#7201a8"
            ],
            [
             0.3333333333333333,
             "#9c179e"
            ],
            [
             0.4444444444444444,
             "#bd3786"
            ],
            [
             0.5555555555555556,
             "#d8576b"
            ],
            [
             0.6666666666666666,
             "#ed7953"
            ],
            [
             0.7777777777777778,
             "#fb9f3a"
            ],
            [
             0.8888888888888888,
             "#fdca26"
            ],
            [
             1,
             "#f0f921"
            ]
           ]
          },
          "colorway": [
           "#636efa",
           "#EF553B",
           "#00cc96",
           "#ab63fa",
           "#FFA15A",
           "#19d3f3",
           "#FF6692",
           "#B6E880",
           "#FF97FF",
           "#FECB52"
          ],
          "font": {
           "color": "#2a3f5f"
          },
          "geo": {
           "bgcolor": "white",
           "lakecolor": "white",
           "landcolor": "#E5ECF6",
           "showlakes": true,
           "showland": true,
           "subunitcolor": "white"
          },
          "hoverlabel": {
           "align": "left"
          },
          "hovermode": "closest",
          "mapbox": {
           "style": "light"
          },
          "paper_bgcolor": "white",
          "plot_bgcolor": "#E5ECF6",
          "polar": {
           "angularaxis": {
            "gridcolor": "white",
            "linecolor": "white",
            "ticks": ""
           },
           "bgcolor": "#E5ECF6",
           "radialaxis": {
            "gridcolor": "white",
            "linecolor": "white",
            "ticks": ""
           }
          },
          "scene": {
           "xaxis": {
            "backgroundcolor": "#E5ECF6",
            "gridcolor": "white",
            "gridwidth": 2,
            "linecolor": "white",
            "showbackground": true,
            "ticks": "",
            "zerolinecolor": "white"
           },
           "yaxis": {
            "backgroundcolor": "#E5ECF6",
            "gridcolor": "white",
            "gridwidth": 2,
            "linecolor": "white",
            "showbackground": true,
            "ticks": "",
            "zerolinecolor": "white"
           },
           "zaxis": {
            "backgroundcolor": "#E5ECF6",
            "gridcolor": "white",
            "gridwidth": 2,
            "linecolor": "white",
            "showbackground": true,
            "ticks": "",
            "zerolinecolor": "white"
           }
          },
          "shapedefaults": {
           "line": {
            "color": "#2a3f5f"
           }
          },
          "ternary": {
           "aaxis": {
            "gridcolor": "white",
            "linecolor": "white",
            "ticks": ""
           },
           "baxis": {
            "gridcolor": "white",
            "linecolor": "white",
            "ticks": ""
           },
           "bgcolor": "#E5ECF6",
           "caxis": {
            "gridcolor": "white",
            "linecolor": "white",
            "ticks": ""
           }
          },
          "title": {
           "x": 0.05
          },
          "xaxis": {
           "automargin": true,
           "gridcolor": "white",
           "linecolor": "white",
           "ticks": "",
           "title": {
            "standoff": 15
           },
           "zerolinecolor": "white",
           "zerolinewidth": 2
          },
          "yaxis": {
           "automargin": true,
           "gridcolor": "white",
           "linecolor": "white",
           "ticks": "",
           "title": {
            "standoff": 15
           },
           "zerolinecolor": "white",
           "zerolinewidth": 2
          }
         }
        },
        "title": {
         "text": "Contagem de Mapas"
        },
        "xaxis": {
         "title": {
          "text": "Mapa"
         }
        },
        "yaxis": {
         "title": {
          "text": "Contagem"
         }
        }
       }
      }
     },
     "metadata": {},
     "output_type": "display_data"
    }
   ],
   "source": [
    "mm_master = games_df['map'].value_counts()\n",
    "\n",
    "# Usando uma paleta de cores do Plotly\n",
    "colors = px.colors.qualitative.Set1\n",
    "\n",
    "# Criando o gráfico de barras\n",
    "fig = go.Figure(data=[go.Bar(x=mm_master.index, y=mm_master, marker_color=colors)])\n",
    "\n",
    "# Atualizando o layou¨\n",
    "fig.update_layout(title='Contagem de Mapas',\n",
    "                  xaxis_title='Mapa',\n",
    "                  yaxis_title='Contagem',\n",
    "                  bargap=0.2)\n",
    "\n",
    "# Exibindo o gráfico\n",
    "fig.show()"
   ]
  },
  {
   "cell_type": "markdown",
   "metadata": {},
   "source": [
    "O grafico abaixo demonstra a porcentagem, por lado de em cada mapa. Onde nos dois mapas mais jogados, não temos uma grande preferencia por vitoraias de qualquer um dos lados, onde no mapda Cache e inforno temos uma vitoria aproximada de  2% para os terroistas. O resultado mais vantajkoso para um dos lados é no mapa Nuke, onde os CT possuem uma vantagem de 5%, mas isso pode ser devido a uma baixa amostragem de jogos, como comentada na imagem anterior (tendo somente 1% de jogados em comparação com o mapa mais jogado MIrage)."
   ]
  },
  {
   "cell_type": "code",
   "execution_count": 35,
   "metadata": {},
   "outputs": [
    {
     "data": {
      "application/vnd.plotly.v1+json": {
       "config": {
        "plotlyServerURL": "https://plot.ly"
       },
       "data": [
        {
         "marker": {
          "color": "blue"
         },
         "name": "CounterTerrorist",
         "type": "bar",
         "x": [
          "de_cache",
          "de_cbble",
          "de_dust2",
          "de_inferno",
          "de_mirage",
          "de_nuke",
          "de_overpass",
          "de_train"
         ],
         "y": [
          47.50437417984128,
          47.41022099447514,
          46.155747836835594,
          47.344731068915955,
          49.95672168657469,
          55.64880568108457,
          51.21323374266785,
          53.24500158679785
         ]
        },
        {
         "marker": {
          "color": "red"
         },
         "name": "Terrorist",
         "type": "bar",
         "x": [
          "de_cache",
          "de_cbble",
          "de_dust2",
          "de_inferno",
          "de_mirage",
          "de_nuke",
          "de_overpass",
          "de_train"
         ],
         "y": [
          52.49562582015872,
          52.58977900552486,
          53.8442521631644,
          52.655268931084045,
          50.04327831342531,
          44.351194318915425,
          48.786766257332154,
          46.75499841320216
         ]
        }
       ],
       "layout": {
        "barmode": "group",
        "template": {
         "data": {
          "bar": [
           {
            "error_x": {
             "color": "#2a3f5f"
            },
            "error_y": {
             "color": "#2a3f5f"
            },
            "marker": {
             "line": {
              "color": "#E5ECF6",
              "width": 0.5
             },
             "pattern": {
              "fillmode": "overlay",
              "size": 10,
              "solidity": 0.2
             }
            },
            "type": "bar"
           }
          ],
          "barpolar": [
           {
            "marker": {
             "line": {
              "color": "#E5ECF6",
              "width": 0.5
             },
             "pattern": {
              "fillmode": "overlay",
              "size": 10,
              "solidity": 0.2
             }
            },
            "type": "barpolar"
           }
          ],
          "carpet": [
           {
            "aaxis": {
             "endlinecolor": "#2a3f5f",
             "gridcolor": "white",
             "linecolor": "white",
             "minorgridcolor": "white",
             "startlinecolor": "#2a3f5f"
            },
            "baxis": {
             "endlinecolor": "#2a3f5f",
             "gridcolor": "white",
             "linecolor": "white",
             "minorgridcolor": "white",
             "startlinecolor": "#2a3f5f"
            },
            "type": "carpet"
           }
          ],
          "choropleth": [
           {
            "colorbar": {
             "outlinewidth": 0,
             "ticks": ""
            },
            "type": "choropleth"
           }
          ],
          "contour": [
           {
            "colorbar": {
             "outlinewidth": 0,
             "ticks": ""
            },
            "colorscale": [
             [
              0,
              "#0d0887"
             ],
             [
              0.1111111111111111,
              "#46039f"
             ],
             [
              0.2222222222222222,
              "#7201a8"
             ],
             [
              0.3333333333333333,
              "#9c179e"
             ],
             [
              0.4444444444444444,
              "#bd3786"
             ],
             [
              0.5555555555555556,
              "#d8576b"
             ],
             [
              0.6666666666666666,
              "#ed7953"
             ],
             [
              0.7777777777777778,
              "#fb9f3a"
             ],
             [
              0.8888888888888888,
              "#fdca26"
             ],
             [
              1,
              "#f0f921"
             ]
            ],
            "type": "contour"
           }
          ],
          "contourcarpet": [
           {
            "colorbar": {
             "outlinewidth": 0,
             "ticks": ""
            },
            "type": "contourcarpet"
           }
          ],
          "heatmap": [
           {
            "colorbar": {
             "outlinewidth": 0,
             "ticks": ""
            },
            "colorscale": [
             [
              0,
              "#0d0887"
             ],
             [
              0.1111111111111111,
              "#46039f"
             ],
             [
              0.2222222222222222,
              "#7201a8"
             ],
             [
              0.3333333333333333,
              "#9c179e"
             ],
             [
              0.4444444444444444,
              "#bd3786"
             ],
             [
              0.5555555555555556,
              "#d8576b"
             ],
             [
              0.6666666666666666,
              "#ed7953"
             ],
             [
              0.7777777777777778,
              "#fb9f3a"
             ],
             [
              0.8888888888888888,
              "#fdca26"
             ],
             [
              1,
              "#f0f921"
             ]
            ],
            "type": "heatmap"
           }
          ],
          "heatmapgl": [
           {
            "colorbar": {
             "outlinewidth": 0,
             "ticks": ""
            },
            "colorscale": [
             [
              0,
              "#0d0887"
             ],
             [
              0.1111111111111111,
              "#46039f"
             ],
             [
              0.2222222222222222,
              "#7201a8"
             ],
             [
              0.3333333333333333,
              "#9c179e"
             ],
             [
              0.4444444444444444,
              "#bd3786"
             ],
             [
              0.5555555555555556,
              "#d8576b"
             ],
             [
              0.6666666666666666,
              "#ed7953"
             ],
             [
              0.7777777777777778,
              "#fb9f3a"
             ],
             [
              0.8888888888888888,
              "#fdca26"
             ],
             [
              1,
              "#f0f921"
             ]
            ],
            "type": "heatmapgl"
           }
          ],
          "histogram": [
           {
            "marker": {
             "pattern": {
              "fillmode": "overlay",
              "size": 10,
              "solidity": 0.2
             }
            },
            "type": "histogram"
           }
          ],
          "histogram2d": [
           {
            "colorbar": {
             "outlinewidth": 0,
             "ticks": ""
            },
            "colorscale": [
             [
              0,
              "#0d0887"
             ],
             [
              0.1111111111111111,
              "#46039f"
             ],
             [
              0.2222222222222222,
              "#7201a8"
             ],
             [
              0.3333333333333333,
              "#9c179e"
             ],
             [
              0.4444444444444444,
              "#bd3786"
             ],
             [
              0.5555555555555556,
              "#d8576b"
             ],
             [
              0.6666666666666666,
              "#ed7953"
             ],
             [
              0.7777777777777778,
              "#fb9f3a"
             ],
             [
              0.8888888888888888,
              "#fdca26"
             ],
             [
              1,
              "#f0f921"
             ]
            ],
            "type": "histogram2d"
           }
          ],
          "histogram2dcontour": [
           {
            "colorbar": {
             "outlinewidth": 0,
             "ticks": ""
            },
            "colorscale": [
             [
              0,
              "#0d0887"
             ],
             [
              0.1111111111111111,
              "#46039f"
             ],
             [
              0.2222222222222222,
              "#7201a8"
             ],
             [
              0.3333333333333333,
              "#9c179e"
             ],
             [
              0.4444444444444444,
              "#bd3786"
             ],
             [
              0.5555555555555556,
              "#d8576b"
             ],
             [
              0.6666666666666666,
              "#ed7953"
             ],
             [
              0.7777777777777778,
              "#fb9f3a"
             ],
             [
              0.8888888888888888,
              "#fdca26"
             ],
             [
              1,
              "#f0f921"
             ]
            ],
            "type": "histogram2dcontour"
           }
          ],
          "mesh3d": [
           {
            "colorbar": {
             "outlinewidth": 0,
             "ticks": ""
            },
            "type": "mesh3d"
           }
          ],
          "parcoords": [
           {
            "line": {
             "colorbar": {
              "outlinewidth": 0,
              "ticks": ""
             }
            },
            "type": "parcoords"
           }
          ],
          "pie": [
           {
            "automargin": true,
            "type": "pie"
           }
          ],
          "scatter": [
           {
            "fillpattern": {
             "fillmode": "overlay",
             "size": 10,
             "solidity": 0.2
            },
            "type": "scatter"
           }
          ],
          "scatter3d": [
           {
            "line": {
             "colorbar": {
              "outlinewidth": 0,
              "ticks": ""
             }
            },
            "marker": {
             "colorbar": {
              "outlinewidth": 0,
              "ticks": ""
             }
            },
            "type": "scatter3d"
           }
          ],
          "scattercarpet": [
           {
            "marker": {
             "colorbar": {
              "outlinewidth": 0,
              "ticks": ""
             }
            },
            "type": "scattercarpet"
           }
          ],
          "scattergeo": [
           {
            "marker": {
             "colorbar": {
              "outlinewidth": 0,
              "ticks": ""
             }
            },
            "type": "scattergeo"
           }
          ],
          "scattergl": [
           {
            "marker": {
             "colorbar": {
              "outlinewidth": 0,
              "ticks": ""
             }
            },
            "type": "scattergl"
           }
          ],
          "scattermapbox": [
           {
            "marker": {
             "colorbar": {
              "outlinewidth": 0,
              "ticks": ""
             }
            },
            "type": "scattermapbox"
           }
          ],
          "scatterpolar": [
           {
            "marker": {
             "colorbar": {
              "outlinewidth": 0,
              "ticks": ""
             }
            },
            "type": "scatterpolar"
           }
          ],
          "scatterpolargl": [
           {
            "marker": {
             "colorbar": {
              "outlinewidth": 0,
              "ticks": ""
             }
            },
            "type": "scatterpolargl"
           }
          ],
          "scatterternary": [
           {
            "marker": {
             "colorbar": {
              "outlinewidth": 0,
              "ticks": ""
             }
            },
            "type": "scatterternary"
           }
          ],
          "surface": [
           {
            "colorbar": {
             "outlinewidth": 0,
             "ticks": ""
            },
            "colorscale": [
             [
              0,
              "#0d0887"
             ],
             [
              0.1111111111111111,
              "#46039f"
             ],
             [
              0.2222222222222222,
              "#7201a8"
             ],
             [
              0.3333333333333333,
              "#9c179e"
             ],
             [
              0.4444444444444444,
              "#bd3786"
             ],
             [
              0.5555555555555556,
              "#d8576b"
             ],
             [
              0.6666666666666666,
              "#ed7953"
             ],
             [
              0.7777777777777778,
              "#fb9f3a"
             ],
             [
              0.8888888888888888,
              "#fdca26"
             ],
             [
              1,
              "#f0f921"
             ]
            ],
            "type": "surface"
           }
          ],
          "table": [
           {
            "cells": {
             "fill": {
              "color": "#EBF0F8"
             },
             "line": {
              "color": "white"
             }
            },
            "header": {
             "fill": {
              "color": "#C8D4E3"
             },
             "line": {
              "color": "white"
             }
            },
            "type": "table"
           }
          ]
         },
         "layout": {
          "annotationdefaults": {
           "arrowcolor": "#2a3f5f",
           "arrowhead": 0,
           "arrowwidth": 1
          },
          "autotypenumbers": "strict",
          "coloraxis": {
           "colorbar": {
            "outlinewidth": 0,
            "ticks": ""
           }
          },
          "colorscale": {
           "diverging": [
            [
             0,
             "#8e0152"
            ],
            [
             0.1,
             "#c51b7d"
            ],
            [
             0.2,
             "#de77ae"
            ],
            [
             0.3,
             "#f1b6da"
            ],
            [
             0.4,
             "#fde0ef"
            ],
            [
             0.5,
             "#f7f7f7"
            ],
            [
             0.6,
             "#e6f5d0"
            ],
            [
             0.7,
             "#b8e186"
            ],
            [
             0.8,
             "#7fbc41"
            ],
            [
             0.9,
             "#4d9221"
            ],
            [
             1,
             "#276419"
            ]
           ],
           "sequential": [
            [
             0,
             "#0d0887"
            ],
            [
             0.1111111111111111,
             "#46039f"
            ],
            [
             0.2222222222222222,
             "#7201a8"
            ],
            [
             0.3333333333333333,
             "#9c179e"
            ],
            [
             0.4444444444444444,
             "#bd3786"
            ],
            [
             0.5555555555555556,
             "#d8576b"
            ],
            [
             0.6666666666666666,
             "#ed7953"
            ],
            [
             0.7777777777777778,
             "#fb9f3a"
            ],
            [
             0.8888888888888888,
             "#fdca26"
            ],
            [
             1,
             "#f0f921"
            ]
           ],
           "sequentialminus": [
            [
             0,
             "#0d0887"
            ],
            [
             0.1111111111111111,
             "#46039f"
            ],
            [
             0.2222222222222222,
             "#7201a8"
            ],
            [
             0.3333333333333333,
             "#9c179e"
            ],
            [
             0.4444444444444444,
             "#bd3786"
            ],
            [
             0.5555555555555556,
             "#d8576b"
            ],
            [
             0.6666666666666666,
             "#ed7953"
            ],
            [
             0.7777777777777778,
             "#fb9f3a"
            ],
            [
             0.8888888888888888,
             "#fdca26"
            ],
            [
             1,
             "#f0f921"
            ]
           ]
          },
          "colorway": [
           "#636efa",
           "#EF553B",
           "#00cc96",
           "#ab63fa",
           "#FFA15A",
           "#19d3f3",
           "#FF6692",
           "#B6E880",
           "#FF97FF",
           "#FECB52"
          ],
          "font": {
           "color": "#2a3f5f"
          },
          "geo": {
           "bgcolor": "white",
           "lakecolor": "white",
           "landcolor": "#E5ECF6",
           "showlakes": true,
           "showland": true,
           "subunitcolor": "white"
          },
          "hoverlabel": {
           "align": "left"
          },
          "hovermode": "closest",
          "mapbox": {
           "style": "light"
          },
          "paper_bgcolor": "white",
          "plot_bgcolor": "#E5ECF6",
          "polar": {
           "angularaxis": {
            "gridcolor": "white",
            "linecolor": "white",
            "ticks": ""
           },
           "bgcolor": "#E5ECF6",
           "radialaxis": {
            "gridcolor": "white",
            "linecolor": "white",
            "ticks": ""
           }
          },
          "scene": {
           "xaxis": {
            "backgroundcolor": "#E5ECF6",
            "gridcolor": "white",
            "gridwidth": 2,
            "linecolor": "white",
            "showbackground": true,
            "ticks": "",
            "zerolinecolor": "white"
           },
           "yaxis": {
            "backgroundcolor": "#E5ECF6",
            "gridcolor": "white",
            "gridwidth": 2,
            "linecolor": "white",
            "showbackground": true,
            "ticks": "",
            "zerolinecolor": "white"
           },
           "zaxis": {
            "backgroundcolor": "#E5ECF6",
            "gridcolor": "white",
            "gridwidth": 2,
            "linecolor": "white",
            "showbackground": true,
            "ticks": "",
            "zerolinecolor": "white"
           }
          },
          "shapedefaults": {
           "line": {
            "color": "#2a3f5f"
           }
          },
          "ternary": {
           "aaxis": {
            "gridcolor": "white",
            "linecolor": "white",
            "ticks": ""
           },
           "baxis": {
            "gridcolor": "white",
            "linecolor": "white",
            "ticks": ""
           },
           "bgcolor": "#E5ECF6",
           "caxis": {
            "gridcolor": "white",
            "linecolor": "white",
            "ticks": ""
           }
          },
          "title": {
           "x": 0.05
          },
          "xaxis": {
           "automargin": true,
           "gridcolor": "white",
           "linecolor": "white",
           "ticks": "",
           "title": {
            "standoff": 15
           },
           "zerolinecolor": "white",
           "zerolinewidth": 2
          },
          "yaxis": {
           "automargin": true,
           "gridcolor": "white",
           "linecolor": "white",
           "ticks": "",
           "title": {
            "standoff": 15
           },
           "zerolinecolor": "white",
           "zerolinewidth": 2
          }
         }
        },
        "title": {
         "text": "Win Percentage of CounterTerrorist and Terrorist on Each Map"
        },
        "xaxis": {
         "title": {
          "text": "Map"
         }
        },
        "yaxis": {
         "title": {
          "text": "Win Percentage"
         }
        }
       }
      }
     },
     "metadata": {},
     "output_type": "display_data"
    }
   ],
   "source": [
    "# Counting the number of wins of each side on each map\n",
    "win_counts = games_df.groupby(['map', 'winner_side']).size().unstack(fill_value=0)\n",
    "\n",
    "# Calculating the win percentage for each side on each map\n",
    "win_percentages = win_counts.div(win_counts.sum(axis=1), axis=0) * 100\n",
    "\n",
    "# Mapping colors for CounterTerrorist and Terrorist\n",
    "colors = {'CounterTerrorist': 'blue', 'Terrorist': 'red'}\n",
    "\n",
    "# Creating the bar chart\n",
    "fig = go.Figure()\n",
    "\n",
    "for side in win_percentages.columns:\n",
    "    fig.add_trace(go.Bar(\n",
    "        x=win_percentages.index,\n",
    "        y=win_percentages[side],\n",
    "        name=side,\n",
    "        marker_color=colors[side]\n",
    "    ))\n",
    "\n",
    "# Updating the layout\n",
    "fig.update_layout(\n",
    "    title='Win Percentage of CounterTerrorist and Terrorist on Each Map',\n",
    "    xaxis_title='Map',\n",
    "    yaxis_title='Win Percentage',\n",
    "    barmode='group'  # Mudando para 'group' em vez de 'stack'\n",
    ")\n",
    "\n",
    "# Displaying the chart\n",
    "fig.show()"
   ]
  },
  {
   "cell_type": "markdown",
   "metadata": {},
   "source": [
    "COmo comentado anterior mente, os rounds são compostos por um lado querendo plantar a bomba e outro defenrendo, com 5 jogadores para cada lado. Cada morte representa uma vantagem tanto financeria, quanto para alcançar o objetivo de plantar ou defusar a bomba. "
   ]
  },
  {
   "cell_type": "code",
   "execution_count": 36,
   "metadata": {},
   "outputs": [
    {
     "data": {
      "image/png": "[encoded data removed]",
      "text/plain": [
       "<Figure size 1200x600 with 1 Axes>"
      ]
     },
     "metadata": {},
     "output_type": "display_data"
    }
   ],
   "source": [
    "# Ajustando o tamanho da figura\n",
    "plt.figure(figsize=(12, 6))\n",
    "\n",
    "\n",
    "# Criando o histograma\n",
    "sns.histplot(kills_df['seconds'], bins=200, kde=True, color='blue')\n",
    "\n",
    "# Adicionando títulos e rótulos\n",
    "plt.title('Distribuição de Kills por Segundos')\n",
    "plt.xlabel('Segundos')\n",
    "plt.ylabel('Contagem de Kills')\n",
    "\n",
    "# Exibindo o gráfico\n",
    "plt.show()"
   ]
  },
  {
   "cell_type": "code",
   "execution_count": 37,
   "metadata": {},
   "outputs": [
    {
     "data": {
      "image/png": "[encoded data removed]",
      "text/plain": [
       "<Figure size 640x480 with 1 Axes>"
      ]
     },
     "metadata": {},
     "output_type": "display_data"
    }
   ],
   "source": [
    "# Agrupe os dados pela coluna 'seconds' e calcule a contagem de ocorrências\n",
    "counts = kills_df['seconds'].value_counts()\n",
    "\n",
    "# Filtra apenas os valores únicos\n",
    "unique_values = counts[counts == 1].index\n",
    "\n",
    "# Filtra o DataFrame original mantendo apenas os valores únicos na coluna 'seconds'\n",
    "kills_df_unique = kills_df[kills_df['seconds'].isin(unique_values)]\n",
    "\n",
    "# Agora você pode criar o boxplot com os dados sem duplicatas\n",
    "sns.boxplot(y=kills_df_unique['seconds'])\n",
    "plt.title('Boxplot da coluna \"seconds\" (sem duplicatas)')\n",
    "plt.show()\n"
   ]
  },
  {
   "cell_type": "code",
   "execution_count": 38,
   "metadata": {},
   "outputs": [
    {
     "data": {
      "image/png": "[encoded data removed]",
      "text/plain": [
       "<Figure size 1200x600 with 1 Axes>"
      ]
     },
     "metadata": {},
     "output_type": "display_data"
    }
   ],
   "source": [
    "# Ajustando o tamanho da figura\n",
    "plt.figure(figsize=(12, 6))\n",
    "# Calculando o quantil de 0.97\n",
    "quantile_value = kills_df['seconds'].quantile(0.99)\n",
    "\n",
    "# Criando o histograma\n",
    "sns.histplot(kills_df['seconds'], bins=200, kde=True, color='blue')\n",
    "\n",
    "# Adicionando uma linha vertical para marcar o quantil de 0.97\n",
    "plt.axvline(x=quantile_value, color='red', linestyle='--', linewidth=2, label='Quantile 0.99')\n",
    "\n",
    "# Adicionando títulos e rótulos\n",
    "plt.title('Distribuição de Kills por Segundos')\n",
    "plt.xlabel('Segundos')\n",
    "plt.ylabel('Contagem de Kills')\n",
    "\n",
    "# Adicionando uma legenda\n",
    "plt.legend()\n",
    "\n",
    "# Exibindo o gráfico\n",
    "plt.show()"
   ]
  },
  {
   "cell_type": "code",
   "execution_count": 39,
   "metadata": {},
   "outputs": [
    {
     "data": {
      "image/png": "[encoded data removed]",
      "text/plain": [
       "<Figure size 1200x600 with 1 Axes>"
      ]
     },
     "metadata": {},
     "output_type": "display_data"
    }
   ],
   "source": [
    "# Importando as bibliotecas necessárias\n",
    "import matplotlib.pyplot as plt\n",
    "import seaborn as sns\n",
    "\n",
    "# Ajustando o tamanho da figura\n",
    "plt.figure(figsize=(12, 6))\n",
    "\n",
    "# Filtrando os dados para os valores dentro da margem de 0 a 99%\n",
    "filtered_data = kills_df[kills_df['seconds'] <= kills_df['seconds'].quantile(0.99)]\n",
    "\n",
    "# Criando o histograma\n",
    "sns.histplot(filtered_data['seconds'], bins=50, kde=True, color='blue')\n",
    "\n",
    "# Adicionando títulos e rótulos\n",
    "plt.title('Distribuição de Kills por Segundos (até o 99º percentil)')\n",
    "plt.xlabel('Segundos')\n",
    "plt.ylabel('Contagem de Kills')\n",
    "\n",
    "# Exibindo o gráfico\n",
    "plt.show()\n"
   ]
  },
  {
   "cell_type": "code",
   "execution_count": null,
   "metadata": {},
   "outputs": [],
   "source": []
  },
  {
   "cell_type": "code",
   "execution_count": null,
   "metadata": {},
   "outputs": [],
   "source": []
  },
  {
   "cell_type": "code",
   "execution_count": null,
   "metadata": {},
   "outputs": [],
   "source": []
  },
  {
   "cell_type": "code",
   "execution_count": 40,
   "metadata": {},
   "outputs": [
    {
     "data": {
      "image/png": "[encoded data removed]",
      "text/plain": [
       "<Figure size 2000x1000 with 1 Axes>"
      ]
     },
     "metadata": {},
     "output_type": "display_data"
    }
   ],
   "source": [
    "# Definindo o tamanho da figura\n",
    "fig = plt.figure(figsize=(20, 10))\n",
    "\n",
    "match_level_data = weapon_events_df.groupby('file').head()\n",
    "\n",
    "# Plotando os KDE plots com nome e grossura das linhas, e atribuindo uma legenda\n",
    "sns.kdeplot(match_level_data.query('winner_side == \"CounterTerrorist\"').pipe(lambda df: df.ct_eq_val - df.t_eq_val).rename('Winning Matches'), label='Winning Matches', linewidth=3)\n",
    "sns.kdeplot(match_level_data.pipe(lambda df: df.ct_eq_val - df.t_eq_val).rename('All Matches'), label='All Matches', linewidth=3, color='red')\n",
    "\n",
    "# Adicionando uma legenda\n",
    "plt.legend(title='Match Type', title_fontsize='14', fontsize='12')\n",
    "\n",
    "# Adicionando um título\n",
    "plt.suptitle(\"Team Weapon Values\", fontsize=16)\n",
    "\n",
    "# Exibindo o gráfico\n",
    "plt.show()\n"
   ]
  },
  {
   "cell_type": "code",
   "execution_count": 41,
   "metadata": {},
   "outputs": [
    {
     "data": {
      "image/png": "[encoded data removed]",
      "text/plain": [
       "<Figure size 2000x1000 with 1 Axes>"
      ]
     },
     "metadata": {},
     "output_type": "display_data"
    }
   ],
   "source": [
    "# Definindo o tamanho da figura\n",
    "fig = plt.figure(figsize=(20, 10))\n",
    "\n",
    "match_level_data = games_df.groupby('file').head()\n",
    "\n",
    "# Plotando os KDE plots com nome e grossura das linhas, e atribuindo uma legenda\n",
    "sns.kdeplot(match_level_data.query('winner_side == \"CounterTerrorist\"').pipe(lambda df: df.ct_eq_val - df.t_eq_val).rename('Winning Matches'), label='Winning Matches', linewidth=3)\n",
    "sns.kdeplot(match_level_data.pipe(lambda df: df.ct_eq_val - df.t_eq_val).rename('All Matches'), label='All Matches', linewidth=3, color='red')\n",
    "\n",
    "# Adicionando uma legenda\n",
    "plt.legend(title='Match Type', title_fontsize='14', fontsize='12')\n",
    "\n",
    "# Adicionando um título\n",
    "plt.suptitle(\"Team Weapon Values\", fontsize=16)\n",
    "\n",
    "# Exibindo o gráfico\n",
    "plt.show()\n"
   ]
  }
 ],
 "metadata": {
  "kernelspec": {
   "display_name": ".venv",
   "language": "python",
   "name": "python3"
  },
  "language_info": {
   "codemirror_mode": {
    "name": "ipython",
    "version": 3
   },
   "file_extension": ".py",
   "mimetype": "text/x-python",
   "name": "python",
   "nbconvert_exporter": "python",
   "pygments_lexer": "ipython3",
   "version": "3.10.12"
  }
 },
 "nbformat": 4,
 "nbformat_minor": 2
}
