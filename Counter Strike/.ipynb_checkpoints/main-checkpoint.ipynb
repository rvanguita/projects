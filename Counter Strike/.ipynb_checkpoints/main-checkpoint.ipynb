{
 "cells": [
  {
   "cell_type": "code",
   "execution_count": null,
   "id": "32ccb92e-1025-434f-89f6-6d7251333306",
   "metadata": {},
   "outputs": [],
   "source": []
  },
  {
   "cell_type": "markdown",
   "id": "53a7506e-f82c-49b8-83dd-248c71c4aa36",
   "metadata": {},
   "source": [
    "Dataset\n",
    "- https://www.kaggle.com/datasets/filipechavesdemacedo/counter-strike-competitive-data/data\n",
    "- https://www.kaggle.com/datasets/skihikingkevin/csgo-matchmaking-damage/data"
   ]
  },
  {
   "cell_type": "code",
   "execution_count": 1,
   "id": "f258aacc-d574-4338-9a05-9e79dcd1e13b",
   "metadata": {},
   "outputs": [
    {
     "name": "stdout",
     "output_type": "stream",
     "text": [
      "\u001b[0m\u001b[01;34mdata\u001b[0m/  main.ipynb\n"
     ]
    }
   ],
   "source": [
    "ls\n"
   ]
  },
  {
   "cell_type": "code",
   "execution_count": null,
   "id": "bae2d494-a1b0-4bdd-a906-7b3c9e8e82ff",
   "metadata": {},
   "outputs": [],
   "source": []
  }
 ],
 "metadata": {
  "kernelspec": {
   "display_name": "Python 3 (ipykernel)",
   "language": "python",
   "name": "python3"
  },
  "language_info": {
   "codemirror_mode": {
    "name": "ipython",
    "version": 3
   },
   "file_extension": ".py",
   "mimetype": "text/x-python",
   "name": "python",
   "nbconvert_exporter": "python",
   "pygments_lexer": "ipython3",
   "version": "3.10.12"
  }
 },
 "nbformat": 4,
 "nbformat_minor": 5
}
